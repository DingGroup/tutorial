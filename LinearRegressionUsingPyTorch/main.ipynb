{
 "cells": [
  {
   "cell_type": "markdown",
   "metadata": {},
   "source": [
    "# A Simple PyTorch Script for Linear Regression\n",
    "\n",
    "[PyTorch](http://pytorch.org/) is a powerful tool for both numeric computing and differential machine learning, especially deep learning. This short tutorial shows how to implement a linear regression method using just a few lines of Python code with the help of PyTorch."
   ]
  },
  {
   "cell_type": "code",
   "execution_count": 7,
   "metadata": {
    "collapsed": false
   },
   "outputs": [],
   "source": [
    "## load required modules\n",
    "import numpy as np\n",
    "import torch\n",
    "from torch.autograd import Variable\n",
    "import matplotlib.pyplot as plt\n",
    "import torch.optim as optim\n",
    "from sys import exit"
   ]
  },
  {
   "cell_type": "code",
   "execution_count": 8,
   "metadata": {
    "collapsed": true
   },
   "outputs": [],
   "source": [
    "## generate simulated data X and Y. \n",
    "## Y is calculated by applying a linear operation of X and adding Gaussian noise\n",
    "np.random.seed(0)\n",
    "X = np.random.normal(loc = 0, scale = 5, size = 20)\n",
    "X = X.astype(np.float32)\n",
    "k = 2.3 ## reference slope value\n",
    "b = 1.9 ## reference intercept value\n",
    "Y = k * X + b + np.random.normal(loc = 0, scale = 2.5, size = 20)\n",
    "Y = Y.astype(np.float32)"
   ]
  },
  {
   "cell_type": "markdown",
   "metadata": {},
   "source": [
    "Defining and training a machine learning model using PyTorch is quite easy and natural. [Variable](http://pytorch.org/tutorials/beginner/blitz/autograd_tutorial.html#variable) objects are used to represent the data and parameters of the model. Operations are naturally applied on variable to calculate the objective loss function of the model. Once the objective loss function is calculated, the [autograd](http://pytorch.org/tutorials/beginner/blitz/autograd_tutorial.html) package can take care of calculating the gradients for each parameter automatically and the [optim](http://pytorch.org/docs/0.3.0/optim.html) can update the value of parameters based on parameters' gradient. Therefore, PyTorch takes the burden of deriving formulas for gradient and implementing optimization off the users."
   ]
  },
  {
   "cell_type": "code",
   "execution_count": 9,
   "metadata": {
    "collapsed": true
   },
   "outputs": [],
   "source": [
    "## define the variables used for building the model\n",
    "slope = Variable(torch.zeros(1), requires_grad = True)\n",
    "intercept = Variable(torch.zeros(1), requires_grad = True)\n",
    "X = Variable(torch.from_numpy(X))\n",
    "Y = Variable(torch.from_numpy(Y))"
   ]
  },
  {
   "cell_type": "code",
   "execution_count": 10,
   "metadata": {
    "collapsed": false
   },
   "outputs": [
    {
     "name": "stdout",
     "output_type": "stream",
     "text": [
      "step:    0, loss:183.216, slope: 1.34, intercept: 0.17\n",
      "step:   50, loss: 9.189, slope: 2.45, intercept: 1.08\n",
      "step:  100, loss: 8.862, slope: 2.41, intercept: 1.47\n",
      "step:  150, loss: 8.779, slope: 2.38, intercept: 1.67\n",
      "step:  200, loss: 8.758, slope: 2.37, intercept: 1.77\n",
      "step:  250, loss: 8.753, slope: 2.37, intercept: 1.82\n",
      "step:  300, loss: 8.751, slope: 2.36, intercept: 1.84\n",
      "step:  350, loss: 8.751, slope: 2.36, intercept: 1.85\n",
      "step:  400, loss: 8.751, slope: 2.36, intercept: 1.86\n",
      "step:  450, loss: 8.751, slope: 2.36, intercept: 1.86\n",
      "step:  500, loss: 8.751, slope: 2.36, intercept: 1.86\n",
      "step:  550, loss: 8.751, slope: 2.36, intercept: 1.86\n",
      "step:  600, loss: 8.751, slope: 2.36, intercept: 1.87\n",
      "step:  650, loss: 8.751, slope: 2.36, intercept: 1.87\n",
      "step:  700, loss: 8.751, slope: 2.36, intercept: 1.87\n",
      "step:  750, loss: 8.751, slope: 2.36, intercept: 1.87\n",
      "step:  800, loss: 8.751, slope: 2.36, intercept: 1.87\n",
      "step:  850, loss: 8.751, slope: 2.36, intercept: 1.87\n",
      "step:  900, loss: 8.751, slope: 2.36, intercept: 1.87\n",
      "step:  950, loss: 8.751, slope: 2.36, intercept: 1.87\n",
      "step: 1000, loss: 8.751, slope: 2.36, intercept: 1.87\n"
     ]
    }
   ],
   "source": [
    "## Stocastic Gradient Descent optimizer\n",
    "optimizer = optim.SGD([slope, intercept], lr = 0.01)\n",
    "\n",
    "## train the model\n",
    "for step in range(1001):\n",
    "    ## set gradients to zero for all the variables passed to optimizer\n",
    "    optimizer.zero_grad()\n",
    "    \n",
    "    ## the following two lines of code are inside the for loop\n",
    "    ## because PyTorch uses dynamic computation graphs\n",
    "    pred = slope * X + intercept\n",
    "    loss = torch.mean((Y - pred)**2)\n",
    "    \n",
    "    ## calculate gradients\n",
    "    loss.backward()\n",
    "    \n",
    "    ## take one step forward\n",
    "    optimizer.step()\n",
    "    \n",
    "    if step % 50 == 0:\n",
    "        print(\"step: {:>4}, loss:{:6.3f}, slope: {:.2f}, intercept: {:.2f}\".format(\n",
    "                step, loss.data[0], slope.data[0], intercept.data[0]))"
   ]
  },
  {
   "cell_type": "code",
   "execution_count": 11,
   "metadata": {
    "collapsed": false
   },
   "outputs": [
    {
     "name": "stdout",
     "output_type": "stream",
     "text": [
      "============================================================\n",
      "Reference slope: 2.30, Fitted slope: 2.36\n",
      "Reference intercept: 1.90, Fitted intercept: 1.87\n",
      "============================================================\n"
     ]
    }
   ],
   "source": [
    "## print the learned parameters\n",
    "print(\"=\"*60)\n",
    "print(\"Reference slope: {:.2f}, Fitted slope: {:.2f}\".format(k, slope.data[0]))\n",
    "print(\"Reference intercept: {:.2f}, Fitted intercept: {:.2f}\".format(b, intercept.data[0]))\n",
    "print(\"=\"*60)"
   ]
  },
  {
   "cell_type": "code",
   "execution_count": 12,
   "metadata": {
    "collapsed": false
   },
   "outputs": [
    {
     "data": {
      "text/plain": [
       "<matplotlib.legend.Legend at 0x7fa72041b978>"
      ]
     },
     "execution_count": 12,
     "metadata": {},
     "output_type": "execute_result"
    },
    {
     "data": {
      "image/png": "[encoded data removed]",
      "text/plain": [
       "<matplotlib.figure.Figure at 0x7fa7cdcb5da0>"
      ]
     },
     "metadata": {},
     "output_type": "display_data"
    }
   ],
   "source": [
    "## plot the data and the fitted line\n",
    "fig = plt.figure(0)\n",
    "plt.plot(X.data.numpy(), Y.data.numpy(), '.', label = \"data\")\n",
    "plt.plot(X.data.numpy(), slope.data[0]*X.data.numpy() + intercept.data[0], label = \"fitted line\")\n",
    "plt.plot(X.data.numpy(), k*X.data.numpy() + b, label = \"true line\", color = 'k')\n",
    "plt.legend()"
   ]
  }
 ],
 "metadata": {
  "anaconda-cloud": {},
  "kernelspec": {
   "display_name": "Python [conda env:pytorch]",
   "language": "python",
   "name": "conda-env-pytorch-py"
  },
  "language_info": {
   "codemirror_mode": {
    "name": "ipython",
    "version": 3
   },
   "file_extension": ".py",
   "mimetype": "text/x-python",
   "name": "python",
   "nbconvert_exporter": "python",
   "pygments_lexer": "ipython3",
   "version": "3.6.2"
  }
 },
 "nbformat": 4,
 "nbformat_minor": 2
}
